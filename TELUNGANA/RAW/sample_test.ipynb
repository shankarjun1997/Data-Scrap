{
 "cells": [
  {
   "cell_type": "code",
   "execution_count": 8,
   "metadata": {},
   "outputs": [
    {
     "name": "stdout",
     "output_type": "stream",
     "text": [
      "Found 8 CSV files: ['/Users/apple/Desktop/Python_workbook/data_scraping_project/TELUNGANA/RAW/salons.csv', '/Users/apple/Desktop/Python_workbook/data_scraping_project/TELUNGANA/RAW/ladies_emp.csv', '/Users/apple/Desktop/Python_workbook/data_scraping_project/TELUNGANA/RAW/silk_sarees.csv', '/Users/apple/Desktop/Python_workbook/data_scraping_project/TELUNGANA/RAW/schools.csv', '/Users/apple/Desktop/Python_workbook/data_scraping_project/TELUNGANA/RAW/hotels(lodge).csv', '/Users/apple/Desktop/Python_workbook/data_scraping_project/TELUNGANA/RAW/malls.csv', '/Users/apple/Desktop/Python_workbook/data_scraping_project/TELUNGANA/RAW/tex&handlooms.csv', '/Users/apple/Desktop/Python_workbook/data_scraping_project/TELUNGANA/RAW/hospital.csv']\n",
      "Processing: salons.csv - Shape: (80, 18)\n",
      "Cleaned shape: (3, 7)\n",
      "Saved: /Users/apple/Desktop/Python_workbook/data_scraping_project/TELUNGANA/TRANSFORMED/salons.csv_transformed\n",
      "Processing: ladies_emp.csv - Shape: (20, 18)\n",
      "Cleaned shape: (3, 7)\n",
      "Saved: /Users/apple/Desktop/Python_workbook/data_scraping_project/TELUNGANA/TRANSFORMED/ladies_emp.csv_transformed\n",
      "Processing: silk_sarees.csv - Shape: (89, 18)\n",
      "Cleaned shape: (3, 7)\n",
      "Saved: /Users/apple/Desktop/Python_workbook/data_scraping_project/TELUNGANA/TRANSFORMED/silk_sarees.csv_transformed\n",
      "Processing: schools.csv - Shape: (18, 18)\n",
      "Cleaned shape: (3, 7)\n",
      "Saved: /Users/apple/Desktop/Python_workbook/data_scraping_project/TELUNGANA/TRANSFORMED/schools.csv_transformed\n",
      "Processing: hotels(lodge).csv - Shape: (179, 18)\n",
      "Cleaned shape: (3, 7)\n",
      "Saved: /Users/apple/Desktop/Python_workbook/data_scraping_project/TELUNGANA/TRANSFORMED/hotels(lodge).csv_transformed\n",
      "Processing: malls.csv - Shape: (36, 18)\n",
      "Cleaned shape: (3, 7)\n",
      "Saved: /Users/apple/Desktop/Python_workbook/data_scraping_project/TELUNGANA/TRANSFORMED/malls.csv_transformed\n",
      "Processing: tex&handlooms.csv - Shape: (54, 18)\n",
      "Cleaned shape: (3, 7)\n",
      "Saved: /Users/apple/Desktop/Python_workbook/data_scraping_project/TELUNGANA/TRANSFORMED/tex&handlooms.csv_transformed\n",
      "Processing: hospital.csv - Shape: (18, 18)\n",
      "Cleaned shape: (3, 7)\n",
      "Saved: /Users/apple/Desktop/Python_workbook/data_scraping_project/TELUNGANA/TRANSFORMED/hospital.csv_transformed\n",
      "All files processed successfully!\n"
     ]
    }
   ],
   "source": [
    "import os\n",
    "import pandas as pd\n",
    "\n",
    "# Define input and output paths\n",
    "input_path = \"/Users/apple/Desktop/Python_workbook/data_scraping_project/TELUNGANA/RAW\"\n",
    "output_path = \"/Users/apple/Desktop/Python_workbook/data_scraping_project/TELUNGANA/TRANSFORMED\"\n",
    "\n",
    "# Ensure output directory exists\n",
    "os.makedirs(output_path, exist_ok=True)\n",
    "\n",
    "# List CSV files efficiently\n",
    "files = [os.path.join(input_path, f) for f in os.listdir(input_path) if f.endswith(\".csv\")]\n",
    "print(f\"Found {len(files)} CSV files: {files}\")\n",
    "\n",
    "# Define transformation function\n",
    "def transform_csv(df, new_column_order):\n",
    "    \"\"\"Transform a DataFrame by selecting and reordering specified columns.\"\"\"\n",
    "    # Keep only columns that exist in the DataFrame from the desired order\n",
    "    existing_columns = [col for col in new_column_order if col in df.columns]\n",
    "    df = df[existing_columns]\n",
    "    return df\n",
    "\n",
    "# Desired columns\n",
    "new_columns = ['Name', 'Address', 'Category', 'Phone', 'Rating', 'Website']\n",
    "\n",
    "# Process each CSV file individually\n",
    "for file in files:\n",
    "    try:\n",
    "        # Read the CSV\n",
    "        df = pd.read_csv(file)\n",
    "        print(f\"Processing: {os.path.basename(file)} - Shape: {df.shape}\")\n",
    "\n",
    "        # Apply transformations (select and reorder columns)\n",
    "        df_transformed = transform_csv(df, new_columns)\n",
    "\n",
    "        # Handle missing values and reset index\n",
    "        # df_cleaned = df_transformed.dropna().reset_index(drop=False)\n",
    "        print(f\"Cleaned shape: {df_cleaned.shape}\")\n",
    "\n",
    "        # Define output file path\n",
    "        output_file = os.path.join(output_path, f\"{os.path.basename(file)}_transformed\")\n",
    "\n",
    "        # Save to CSV\n",
    "        df_cleaned.to_csv(output_file, index=False)\n",
    "        print(f\"Saved: {output_file}\")\n",
    "\n",
    "    except Exception as e:\n",
    "        print(f\"Error processing {os.path.basename(file)}: {e}\")\n",
    "\n",
    "print(\"All files processed successfully!\")"
   ]
  },
  {
   "cell_type": "code",
   "execution_count": null,
   "metadata": {},
   "outputs": [],
   "source": []
  }
 ],
 "metadata": {
  "kernelspec": {
   "display_name": "venv",
   "language": "python",
   "name": "python3"
  },
  "language_info": {
   "codemirror_mode": {
    "name": "ipython",
    "version": 3
   },
   "file_extension": ".py",
   "mimetype": "text/x-python",
   "name": "python",
   "nbconvert_exporter": "python",
   "pygments_lexer": "ipython3",
   "version": "3.9.6"
  }
 },
 "nbformat": 4,
 "nbformat_minor": 2
}
